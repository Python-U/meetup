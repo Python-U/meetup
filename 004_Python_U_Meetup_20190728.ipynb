{
  "nbformat": 4,
  "nbformat_minor": 0,
  "metadata": {
    "colab": {
      "name": "004 Python U Meetup 20190728.ipynb",
      "version": "0.3.2",
      "provenance": [],
      "collapsed_sections": [],
      "include_colab_link": true
    },
    "kernelspec": {
      "name": "python3",
      "display_name": "Python 3"
    }
  },
  "cells": [
    {
      "cell_type": "markdown",
      "metadata": {
        "id": "view-in-github",
        "colab_type": "text"
      },
      "source": [
        "<a href=\"https://colab.research.google.com/github/Python-U/meetup/blob/master/004_Python_U_Meetup_20190728.ipynb\" target=\"_parent\"><img src=\"https://colab.research.google.com/assets/colab-badge.svg\" alt=\"Open In Colab\"/></a>"
      ]
    },
    {
      "cell_type": "markdown",
      "metadata": {
        "id": "lKPNO2uDGhU5",
        "colab_type": "text"
      },
      "source": [
        "![alt text](https://nixojp.com/meetup/img/pythonu-logo-small.jpeg) "
      ]
    },
    {
      "cell_type": "markdown",
      "metadata": {
        "id": "CHCBsJ1Ou8a7",
        "colab_type": "text"
      },
      "source": [
        "# Welcome to Python U Meetup #4"
      ]
    },
    {
      "cell_type": "markdown",
      "metadata": {
        "id": "wXYGIxPOvNfS",
        "colab_type": "text"
      },
      "source": [
        "### Quick tutorial\n",
        "- This Google Colab Python 3 notebook contains two types of cells, \"*code*\" cells and \"*text*\" cells.\n",
        "- To run the Python code in each code cell or display the formatted text in a text cell, just selct the cell and press **Shift + Enter ** on your keyboard.\n",
        "- You can also click on the Play button ▶️ on the far left of the cell to run the code. Text cells do not have a play button.\n",
        "- Double-click inside a cell to edit the contents.\n",
        "- To add a cell, you can click on \"**+CODE**\" or \"**+TEXT**\" on the toolbar above or hover  your mouse between two cells and click on \"**+CODE**\" or \"**+TEXT**\" from the pop-up.\n",
        "- To delete a cell, click on the three dots ⠸ on the far right of the cell and select \"Delete cell.\""
      ]
    },
    {
      "cell_type": "markdown",
      "metadata": {
        "id": "RYL4G5iXTfjz",
        "colab_type": "text"
      },
      "source": [
        "## Review Quiz\n",
        "\n",
        "\n",
        "\n",
        "\n",
        "1.   What is the equivalent of a Python \"list\" in JavaScript?\n",
        "2.   Python \"dictionaries\" and made up of two types of information; what are they?\n",
        "3.   True/False: \"Tuples\" are immutable.\n",
        "4.   How do you check how many items are in a list variable?\n",
        "5.   What is the result of the following code?\n",
        "\n",
        "word = 'Hello'\n",
        "\n",
        "word[15]\n",
        "\n",
        "\n",
        "\n",
        "\n"
      ]
    },
    {
      "cell_type": "code",
      "metadata": {
        "id": "BtgR4e8tI7Wq",
        "colab_type": "code",
        "colab": {}
      },
      "source": [
        ""
      ],
      "execution_count": 0,
      "outputs": []
    },
    {
      "cell_type": "markdown",
      "metadata": {
        "id": "po5X1Go7L1Pq",
        "colab_type": "text"
      },
      "source": [
        "## Code Review 1\n",
        "\n",
        "\n",
        "\n",
        "```\n",
        "# Create a variable of the string \"Hello!\" and print it out using the 'f-string' method.\n",
        "```\n",
        "\n"
      ]
    },
    {
      "cell_type": "code",
      "metadata": {
        "id": "-csMbkzUL8uJ",
        "colab_type": "code",
        "colab": {}
      },
      "source": [
        ""
      ],
      "execution_count": 0,
      "outputs": []
    },
    {
      "cell_type": "markdown",
      "metadata": {
        "id": "oRM8lhc2L9K9",
        "colab_type": "text"
      },
      "source": [
        "## Code Review 2\n",
        "\n",
        "```\n",
        "# Create two new variables of any name and assign them the values of two different numbers.\n",
        "# Print out the mathematical product (multiply) of the two variables.\n",
        "```\n",
        "\n"
      ]
    },
    {
      "cell_type": "code",
      "metadata": {
        "id": "QWTjKrH1MiXn",
        "colab_type": "code",
        "colab": {}
      },
      "source": [
        ""
      ],
      "execution_count": 0,
      "outputs": []
    },
    {
      "cell_type": "markdown",
      "metadata": {
        "id": "avPLpkwtMm-P",
        "colab_type": "text"
      },
      "source": [
        "## Code Review 3\n",
        "\n",
        "\n",
        "\n",
        "```\n",
        "# Create a variable of a list of five numbers and print out the list.\n",
        "```\n",
        "\n"
      ]
    },
    {
      "cell_type": "code",
      "metadata": {
        "id": "Ag5OudPBV-l0",
        "colab_type": "code",
        "colab": {}
      },
      "source": [
        ""
      ],
      "execution_count": 0,
      "outputs": []
    },
    {
      "cell_type": "markdown",
      "metadata": {
        "id": "_GL5l4QnWBha",
        "colab_type": "text"
      },
      "source": [
        "\n",
        "\n",
        "---\n",
        "\n"
      ]
    },
    {
      "cell_type": "markdown",
      "metadata": {
        "id": "rrFrOMzSJffS",
        "colab_type": "text"
      },
      "source": [
        "![alt text](https://nixojp.com/meetup/img/view01.jpg)"
      ]
    },
    {
      "cell_type": "markdown",
      "metadata": {
        "id": "K6rh1cEe5X6l",
        "colab_type": "text"
      },
      "source": [
        "# Section 1\n",
        "# *for*  Statement"
      ]
    },
    {
      "cell_type": "markdown",
      "metadata": {
        "id": "ZfKr2ahP48Qc",
        "colab_type": "text"
      },
      "source": [
        "### 1-1\n",
        "\n",
        "**for** *VARIABLE* **in** *ITERATOR* **:**\n",
        "> *STATEMENT1*\n",
        "\n",
        "> *STATEMENT2*\n",
        "\n",
        "> ...\n",
        "\n",
        "\n",
        "\n",
        "\n",
        "\n",
        "```\n",
        "# Example\n",
        "# Measure some strings:\n",
        "words = ['dog', 'house', 'disestablishmentarianism']\n",
        "for w in words:\n",
        "    print(w, len(w))\n",
        "```\n",
        "\n"
      ]
    },
    {
      "cell_type": "code",
      "metadata": {
        "id": "MOwWJuEs5P-k",
        "colab_type": "code",
        "colab": {}
      },
      "source": [
        ""
      ],
      "execution_count": 0,
      "outputs": []
    },
    {
      "cell_type": "markdown",
      "metadata": {
        "id": "9EQbfq4K8byy",
        "colab_type": "text"
      },
      "source": [
        "\n",
        "\n",
        "```\n",
        "numbers1 = [1, 2, 3, 4, 5]\n",
        "\n",
        "for num in numbers1:\n",
        "    print(num ** 2)\n",
        "```\n",
        "\n"
      ]
    },
    {
      "cell_type": "code",
      "metadata": {
        "id": "IrwFe7278uDe",
        "colab_type": "code",
        "colab": {}
      },
      "source": [
        ""
      ],
      "execution_count": 0,
      "outputs": []
    },
    {
      "cell_type": "markdown",
      "metadata": {
        "id": "3wS41enA8uhz",
        "colab_type": "text"
      },
      "source": [
        "### 1-2\n",
        "\n",
        "\n",
        "\n",
        "```\n",
        "score1 = {'math': 100, 'english': 90}\n",
        "\n",
        "# Print just the 'value'\n",
        "for value in score1.values():\n",
        "    print(value)\n",
        "```\n",
        "\n"
      ]
    },
    {
      "cell_type": "code",
      "metadata": {
        "id": "P3EnAR7j9HGj",
        "colab_type": "code",
        "colab": {}
      },
      "source": [
        ""
      ],
      "execution_count": 0,
      "outputs": []
    },
    {
      "cell_type": "markdown",
      "metadata": {
        "id": "JyPFje7h9HlU",
        "colab_type": "text"
      },
      "source": [
        "### 1-3\n",
        "\n",
        "```\n",
        "score2 = {'python': 90, 'biology': 85}\n",
        "\n",
        "# Print both the 'key' and 'value'\n",
        "for key, value in score.items():\n",
        "    print(key, value)\n",
        "```\n",
        "\n"
      ]
    },
    {
      "cell_type": "code",
      "metadata": {
        "id": "NH8cFbYb-Lpa",
        "colab_type": "code",
        "colab": {}
      },
      "source": [
        ""
      ],
      "execution_count": 0,
      "outputs": []
    },
    {
      "cell_type": "markdown",
      "metadata": {
        "id": "dGve1Fo59u6t",
        "colab_type": "text"
      },
      "source": [
        "### 1-4\n",
        "\n",
        "```\n",
        "# Prepare a list of tuples\n",
        "profiles = [\n",
        "    ('sato', 170, 74),\n",
        "    ('tanaka', 180, 70),\n",
        "    ('yoshida', 160, 50)\n",
        "]\n",
        "\n",
        "# For each tuple in the list, print out each item\n",
        "for name, height, weight in profiles:\n",
        "    print(name, height, weight)\n",
        "```\n",
        "\n"
      ]
    },
    {
      "cell_type": "code",
      "metadata": {
        "id": "xDsZKSsb-QjC",
        "colab_type": "code",
        "colab": {}
      },
      "source": [
        ""
      ],
      "execution_count": 0,
      "outputs": []
    },
    {
      "cell_type": "markdown",
      "metadata": {
        "id": "MTdvo0wm-s1n",
        "colab_type": "text"
      },
      "source": [
        "### 1-5\n",
        "\n",
        "```\n",
        "numbers2 = [4, 1, 5, 7, 11, 3, 4, 5]\n",
        "\n",
        "found = False\n",
        "\n",
        "for num in numbers2:\n",
        "    if num >= 10:\n",
        "        found = True\n",
        "        \n",
        "if found:\n",
        "    print('There are numbers greater than or equal to 10')\n",
        "else:\n",
        "    print('No numbers greater than or equal to 10')\n",
        "```\n",
        "\n"
      ]
    },
    {
      "cell_type": "code",
      "metadata": {
        "id": "XcymvIhY_PHk",
        "colab_type": "code",
        "colab": {}
      },
      "source": [
        ""
      ],
      "execution_count": 0,
      "outputs": []
    },
    {
      "cell_type": "markdown",
      "metadata": {
        "id": "eAIResml_fSj",
        "colab_type": "text"
      },
      "source": [
        "### 1-6\n",
        "\n",
        "```\n",
        "# Make a simple algorithm\n",
        "numbers3 = [4, 1, 5, 7, 11, 3, 4, 5]\n",
        "\n",
        "found = False\n",
        "\n",
        "for num in numbers3:\n",
        "    if num >= 10:\n",
        "        # Update the 'found' variable\n",
        "        found = True\n",
        "        break  # This is the new line\n",
        "        \n",
        "if found:\n",
        "    print('There are numbers greater than or equal to 10')\n",
        "else:\n",
        "    print('No numbers greater than or equal to 10')\n",
        "```\n",
        "\n"
      ]
    },
    {
      "cell_type": "code",
      "metadata": {
        "id": "RSuW4ywNAF9m",
        "colab_type": "code",
        "colab": {}
      },
      "source": [
        ""
      ],
      "execution_count": 0,
      "outputs": []
    },
    {
      "cell_type": "markdown",
      "metadata": {
        "id": "GcuObDNoBC8B",
        "colab_type": "text"
      },
      "source": [
        "### 1-7\n",
        "\n",
        "```\n",
        "# Make a simple algorithm\n",
        "numbers4 = [4, 1, 5, 7, 11, 3, 4, 5]\n",
        "\n",
        "for num in numbers4:\n",
        "    if num >= 10:\n",
        "        print('There are numbers greater than or equal to 10')\n",
        "        break\n",
        "        \n",
        "    else:\n",
        "        print('No numbers greater than or equal to 10')\n",
        "```\n",
        "\n"
      ]
    },
    {
      "cell_type": "code",
      "metadata": {
        "id": "Dgu5FXbGBrkj",
        "colab_type": "code",
        "colab": {}
      },
      "source": [
        ""
      ],
      "execution_count": 0,
      "outputs": []
    },
    {
      "cell_type": "markdown",
      "metadata": {
        "id": "PXBsTPukUlll",
        "colab_type": "text"
      },
      "source": [
        "![alt text](https://nixojp.com/meetup/img/sunset01.jpg)"
      ]
    },
    {
      "cell_type": "markdown",
      "metadata": {
        "id": "6gHdhVgdWxMW",
        "colab_type": "text"
      },
      "source": [
        "# Section 2 - range( )"
      ]
    },
    {
      "cell_type": "markdown",
      "metadata": {
        "id": "mUYOrJEgF0dU",
        "colab_type": "text"
      },
      "source": [
        "### 2-1\n",
        "\n",
        "```\n",
        "for i in range(10):\n",
        "    print(i, end=' ') # Use space between items, not new line\n",
        "    \n",
        "for i in range(10):\n",
        "    print(i)\n",
        "```\n",
        "\n"
      ]
    },
    {
      "cell_type": "code",
      "metadata": {
        "id": "bsLzLViwF-dK",
        "colab_type": "code",
        "colab": {}
      },
      "source": [
        ""
      ],
      "execution_count": 0,
      "outputs": []
    },
    {
      "cell_type": "markdown",
      "metadata": {
        "id": "BWZgtOsvHXk3",
        "colab_type": "text"
      },
      "source": [
        "### 2-2\n",
        "\n",
        "```\n",
        "for i in range(1, 11):\n",
        "    print(i, end=' ')\n",
        "```\n",
        "\n"
      ]
    },
    {
      "cell_type": "code",
      "metadata": {
        "id": "BRLSxXGdHgAq",
        "colab_type": "code",
        "colab": {}
      },
      "source": [
        ""
      ],
      "execution_count": 0,
      "outputs": []
    },
    {
      "cell_type": "markdown",
      "metadata": {
        "id": "AxrmA2JSHhoj",
        "colab_type": "text"
      },
      "source": [
        "### 2-3\n",
        "\n",
        "```\n",
        "for i in range(1, 11, 2):\n",
        "    print(i, end=' ')\n",
        "```\n",
        "\n"
      ]
    },
    {
      "cell_type": "code",
      "metadata": {
        "id": "eX_U0z5aHqhN",
        "colab_type": "code",
        "colab": {}
      },
      "source": [
        ""
      ],
      "execution_count": 0,
      "outputs": []
    },
    {
      "cell_type": "markdown",
      "metadata": {
        "id": "jThfMynST_Al",
        "colab_type": "text"
      },
      "source": [
        "### 2-4\n",
        "\n",
        "```\n",
        "numbers5 = range(10)\n",
        "\n",
        "print(numbers5)\n",
        "\n",
        "print(type(numbers5))\n",
        "```\n",
        "\n"
      ]
    },
    {
      "cell_type": "code",
      "metadata": {
        "id": "-oPoQgvlURTL",
        "colab_type": "code",
        "colab": {}
      },
      "source": [
        ""
      ],
      "execution_count": 0,
      "outputs": []
    },
    {
      "cell_type": "markdown",
      "metadata": {
        "id": "cdktJQudUj7c",
        "colab_type": "text"
      },
      "source": [
        "### 2-5\n",
        "\n",
        "```\n",
        "numbers6 = list(range(10))\n",
        "\n",
        "print(numbers6)\n",
        "\n",
        "print(type(numbers6))\n",
        "```\n",
        "\n"
      ]
    },
    {
      "cell_type": "code",
      "metadata": {
        "id": "wlOn6ti3UuJj",
        "colab_type": "code",
        "colab": {}
      },
      "source": [
        ""
      ],
      "execution_count": 0,
      "outputs": []
    },
    {
      "cell_type": "markdown",
      "metadata": {
        "id": "1Xx7nnNBW8Ro",
        "colab_type": "text"
      },
      "source": [
        "![alt text](https://nixojp.com/meetup/img/droids01.jpg)"
      ]
    },
    {
      "cell_type": "markdown",
      "metadata": {
        "id": "P0W0Z-O6LlIX",
        "colab_type": "text"
      },
      "source": [
        "# Section 3 - enumerate( ) & zip( )\n",
        "\n",
        "\n",
        "\n"
      ]
    },
    {
      "cell_type": "markdown",
      "metadata": {
        "id": "IK5QlhOOYiTy",
        "colab_type": "text"
      },
      "source": [
        "### 3-1\n",
        "\n",
        "\n",
        "```\n",
        "# Create a list of famous droids from the Star Wars movies\n",
        "droids1 = ['R2D2', 'C3PO', 'BB8', 'K2SO']\n",
        "\n",
        "# Print out a numbered list of all droids\n",
        "for i in range(len(droids1)):\n",
        "    print(i, droids1[i])\n",
        "```\n",
        "\n"
      ]
    },
    {
      "cell_type": "code",
      "metadata": {
        "id": "hQaMuNvlZVJd",
        "colab_type": "code",
        "colab": {}
      },
      "source": [
        ""
      ],
      "execution_count": 0,
      "outputs": []
    },
    {
      "cell_type": "markdown",
      "metadata": {
        "id": "tLMTr3y7xYu8",
        "colab_type": "text"
      },
      "source": [
        "### 3-2\n",
        "\n",
        "\n",
        "```\n",
        "# Create a list of famous droids from the Star Wars movies\n",
        "droids2 = ['R2D2', 'C3PO', 'BB8', 'K2SO']\n",
        "\n",
        "# Print out a numbered list of all droids using 'enumerate' function\n",
        "for i, droid in enumerate(droids2):\n",
        "    print(i, droid)\n",
        "```"
      ]
    },
    {
      "cell_type": "code",
      "metadata": {
        "id": "5vacpg8iGk0O",
        "colab_type": "code",
        "colab": {}
      },
      "source": [
        ""
      ],
      "execution_count": 0,
      "outputs": []
    },
    {
      "cell_type": "markdown",
      "metadata": {
        "id": "cP2KqdxMg-2n",
        "colab_type": "text"
      },
      "source": [
        "### 3-3\n",
        "\n",
        "\n",
        "```\n",
        "droids3 = ['R2D2', 'C3PO', 'BB8', 'K2SO']\n",
        "\n",
        "# Assign the droids3 variable as a numbered list\n",
        "droid_list = list(enumerate(droids3))\n",
        "\n",
        "# Assign the droids3 variable as a numbered dictionay\n",
        "droid_dict = dict(enumerate(droids3))\n",
        "\n",
        "# Print out both variables to compare\n",
        "print(droid_list)\n",
        "print(droid_dict)\n",
        "\n",
        "```\n",
        "\n"
      ]
    },
    {
      "cell_type": "code",
      "metadata": {
        "id": "C4gDCWYIhrt7",
        "colab_type": "code",
        "colab": {}
      },
      "source": [
        ""
      ],
      "execution_count": 0,
      "outputs": []
    },
    {
      "cell_type": "markdown",
      "metadata": {
        "id": "0fGC9xy5iLXk",
        "colab_type": "text"
      },
      "source": [
        "### 3-4\n",
        "\n",
        "\n",
        "```\n",
        "# Prepare two separate list variables\n",
        "droids4 = ['R2D2', 'C3PO', 'BB8', 'K2SO']\n",
        "people = ['Luke Skywalker', 'Anakin Skywalker', 'Rey', 'Cassian Andor']\n",
        "\n",
        "# Use the 'zip' function to combine the two lists\n",
        "for d, p in zip(droids4, people):\n",
        "    print(d, p)\n",
        "```\n",
        "\n"
      ]
    },
    {
      "cell_type": "code",
      "metadata": {
        "id": "Ojnj9bIvi6Au",
        "colab_type": "code",
        "colab": {}
      },
      "source": [
        ""
      ],
      "execution_count": 0,
      "outputs": []
    },
    {
      "cell_type": "markdown",
      "metadata": {
        "id": "CuizCF172hLW",
        "colab_type": "text"
      },
      "source": [
        "\n",
        "\n",
        "---\n",
        "\n"
      ]
    },
    {
      "cell_type": "markdown",
      "metadata": {
        "id": "TwIgPox8mys8",
        "colab_type": "text"
      },
      "source": [
        "# Awesome job! You've reached the end of this notebook!"
      ]
    }
  ]
}