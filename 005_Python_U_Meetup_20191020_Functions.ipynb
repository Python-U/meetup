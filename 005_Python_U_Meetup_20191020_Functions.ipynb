{
  "nbformat": 4,
  "nbformat_minor": 0,
  "metadata": {
    "colab": {
      "name": "005 Python U Meetup 20191020 - Functions.ipynb",
      "provenance": [],
      "collapsed_sections": [],
      "include_colab_link": true
    },
    "kernelspec": {
      "name": "python3",
      "display_name": "Python 3"
    }
  },
  "cells": [
    {
      "cell_type": "markdown",
      "metadata": {
        "id": "view-in-github",
        "colab_type": "text"
      },
      "source": [
        "<a href=\"https://colab.research.google.com/github/Python-U/meetup/blob/master/005_Python_U_Meetup_20191020_Functions.ipynb\" target=\"_parent\"><img src=\"https://colab.research.google.com/assets/colab-badge.svg\" alt=\"Open In Colab\"/></a>"
      ]
    },
    {
      "cell_type": "markdown",
      "metadata": {
        "id": "kWBcQum7TeBA",
        "colab_type": "text"
      },
      "source": [
        "![alt text](https://nixojp.com/meetup/img/pythonu-logo-small.jpeg)"
      ]
    },
    {
      "cell_type": "markdown",
      "metadata": {
        "id": "beHj44WTTzg3",
        "colab_type": "text"
      },
      "source": [
        "# Welcome to Python U Meetup #5"
      ]
    },
    {
      "cell_type": "markdown",
      "metadata": {
        "id": "rM9M8CFWUQKS",
        "colab_type": "text"
      },
      "source": [
        "### Quick tutorial\n",
        "- This Google Colab Python 3 notebook contains two types of cells, \"*code*\" cells and \"*text*\" cells.\n",
        "- To run the Python code in each code cell or display the formatted text in a text cell, just select the cell and press **Shift + Enter ** on your keyboard.\n",
        "- You can also click on the Play button ▶️ on the far left of the cell to run the code. Text cells do not have a play button.\n",
        "- Double-click inside a cell to edit the contents.\n",
        "- To add a cell, you can click on \"**+CODE**\" or \"**+TEXT**\" on the toolbar above or hover  your mouse between two cells and click on \"**+CODE**\" or \"**+TEXT**\" from the pop-up.\n",
        "- To delete a cell, click on the three dots ⠸ on the far right of the cell and select \"Delete cell.\""
      ]
    },
    {
      "cell_type": "markdown",
      "metadata": {
        "id": "ZFSpSjgAUbTn",
        "colab_type": "text"
      },
      "source": [
        "## Code Review 1 (['for' loop review](https://docs.python.org/3.7/reference/compound_stmts.html#the-for-statement))\n",
        "\n",
        "\n",
        "\n",
        "```\n",
        "# Measure some strings:\n",
        "words = ['dog', 'house', 'disestablishmentarianism']\n",
        "for word in words:\n",
        "    print(word, len(word))\n",
        "```"
      ]
    },
    {
      "cell_type": "code",
      "metadata": {
        "id": "hDoaTdpuRBoS",
        "colab_type": "code",
        "colab": {}
      },
      "source": [
        ""
      ],
      "execution_count": 0,
      "outputs": []
    },
    {
      "cell_type": "markdown",
      "metadata": {
        "id": "G0xm_YUwUfFI",
        "colab_type": "text"
      },
      "source": [
        "## Code Review 2\n",
        "\n",
        "```\n",
        "# Square some numbers:\n",
        "numbers = [5, 6, 7, 8, 9, 10]\n",
        "\n",
        "# Review: the '**' symbol is the exponent operator\n",
        "for num in numbers:\n",
        "    print(num ** 2)\n",
        "```"
      ]
    },
    {
      "cell_type": "code",
      "metadata": {
        "id": "WJs_vAe_UfuB",
        "colab_type": "code",
        "colab": {}
      },
      "source": [
        ""
      ],
      "execution_count": 0,
      "outputs": []
    },
    {
      "cell_type": "markdown",
      "metadata": {
        "id": "bZc1LyERUgey",
        "colab_type": "text"
      },
      "source": [
        "## Code Review 3\n",
        "\n",
        "\n",
        "\n",
        "```\n",
        "# Using a for loop with the 'range()' function\n",
        "for i in range(10):\n",
        "    print(i, end=' ') # Use space between items, not new line\n",
        "\n",
        "```"
      ]
    },
    {
      "cell_type": "code",
      "metadata": {
        "id": "q4u59edvUjiZ",
        "colab_type": "code",
        "colab": {}
      },
      "source": [
        ""
      ],
      "execution_count": 0,
      "outputs": []
    },
    {
      "cell_type": "markdown",
      "metadata": {
        "id": "Yk7TBcF5ENGR",
        "colab_type": "text"
      },
      "source": [
        "![alt text](https://nixojp.com/meetup/img/office1.jpg)"
      ]
    },
    {
      "cell_type": "markdown",
      "metadata": {
        "id": "U8FrzhHXeAA1",
        "colab_type": "text"
      },
      "source": [
        "# Section 1 - [while loop](https://docs.python.org/3.7/reference/compound_stmts.html#the-while-statement)"
      ]
    },
    {
      "cell_type": "markdown",
      "metadata": {
        "id": "3tpdCoVTieoZ",
        "colab_type": "text"
      },
      "source": [
        "## Exercise 1-1\n",
        "\n",
        "\n",
        "```\n",
        "i = 1\n",
        "while i < 10:\n",
        "  print(i)\n",
        "  i += 1\n",
        "```\n",
        "\n"
      ]
    },
    {
      "cell_type": "code",
      "metadata": {
        "id": "NQ6XdM9sIcQX",
        "colab_type": "code",
        "colab": {}
      },
      "source": [
        ""
      ],
      "execution_count": 0,
      "outputs": []
    },
    {
      "cell_type": "markdown",
      "metadata": {
        "id": "WLc59tJU94y9",
        "colab_type": "text"
      },
      "source": [
        "## Exercise 1-2\n",
        "\n",
        "\n",
        "```\n",
        "n = 20\n",
        "while n > 3:\n",
        "  n -= 1\n",
        "  if n == 7:\n",
        "    continue\n",
        "  print(n)\n",
        "```\n",
        "\n"
      ]
    },
    {
      "cell_type": "code",
      "metadata": {
        "id": "_3PqCIlkGJXR",
        "colab_type": "code",
        "colab": {}
      },
      "source": [
        ""
      ],
      "execution_count": 0,
      "outputs": []
    },
    {
      "cell_type": "markdown",
      "metadata": {
        "id": "tIG9alOk-F6f",
        "colab_type": "text"
      },
      "source": [
        "## Exercise 1-3\n",
        "\n",
        "### Review: [pop function](https://docs.python.org/3.7/tutorial/datastructures.html)\n",
        "\n",
        "```\n",
        "a = ['fizz', 'buzz', 'bazz']\n",
        "while True:\n",
        "    if not a:\n",
        "        break\n",
        "    print(a.pop(-1)) \n",
        "```\n",
        "\n"
      ]
    },
    {
      "cell_type": "code",
      "metadata": {
        "id": "d620PW06-LEn",
        "colab_type": "code",
        "colab": {}
      },
      "source": [
        ""
      ],
      "execution_count": 0,
      "outputs": []
    },
    {
      "cell_type": "markdown",
      "metadata": {
        "id": "zEnm1N4siltA",
        "colab_type": "text"
      },
      "source": [
        "![alt text](https://nixojp.com/meetup/img/cafe1.jpg)"
      ]
    },
    {
      "cell_type": "markdown",
      "metadata": {
        "id": "Nq7_Cl3hUsyp",
        "colab_type": "text"
      },
      "source": [
        "# Section 2\n",
        "# [Defining Functions](https://docs.python.org/3.7/tutorial/controlflow.html#defining-functions)"
      ]
    },
    {
      "cell_type": "markdown",
      "metadata": {
        "id": "ROd1UeIG0BrE",
        "colab_type": "text"
      },
      "source": [
        "### Basic function definition format\n",
        "\n",
        "```\n",
        "# First define the function\n",
        "def function_name():\n",
        "    statement_1\n",
        "    statement_2\n",
        "    statement_3\n",
        "    statement_n\n",
        "    \n",
        "# Then call the function\n",
        "function_name( )\n",
        "```\n",
        "\n"
      ]
    },
    {
      "cell_type": "markdown",
      "metadata": {
        "id": "3RwpwDcS0gB1",
        "colab_type": "text"
      },
      "source": [
        "## Exercise 2-1\n",
        "\n",
        "```\n",
        "# Define the function\n",
        "def say_hi1():\n",
        "    print(\"Hi there!\")\n",
        "    \n",
        "# Now you can invoke, or call, the function\n",
        "say_hi1()\n",
        "say_hi1()\n",
        "say_hi1()\n",
        "```\n",
        "\n"
      ]
    },
    {
      "cell_type": "code",
      "metadata": {
        "id": "eFxPaKcvUvyZ",
        "colab_type": "code",
        "colab": {}
      },
      "source": [
        ""
      ],
      "execution_count": 0,
      "outputs": []
    },
    {
      "cell_type": "markdown",
      "metadata": {
        "id": "0tCOQpG30x3Y",
        "colab_type": "text"
      },
      "source": [
        "## Exercise 2-2\n",
        "\n",
        "### Q: What happens if you call the function *before* defining it?\n",
        "```\n",
        "say_hi2()\n",
        "\n",
        "def say_hi2():\n",
        "    print(\"Hi again!\")\n",
        "\n",
        "```\n",
        "\n"
      ]
    },
    {
      "cell_type": "code",
      "metadata": {
        "id": "QWPqBLvp1J1C",
        "colab_type": "code",
        "colab": {}
      },
      "source": [
        "    "
      ],
      "execution_count": 0,
      "outputs": []
    },
    {
      "cell_type": "markdown",
      "metadata": {
        "id": "8JLdTQXZ1m0f",
        "colab_type": "text"
      },
      "source": [
        "## Exercise 2-3\n",
        "\n",
        "### Indentation and whtespace is important for function definitions in Python!\n",
        "\n",
        "\n",
        "```\n",
        "def say_hi3():\n",
        "    print(\"Hi once again!\")\n",
        "print(\"Outside the function.\")\n",
        "\n",
        "say_hi3()\n",
        "```\n",
        "\n"
      ]
    },
    {
      "cell_type": "code",
      "metadata": {
        "id": "MnuUliEW1wM3",
        "colab_type": "code",
        "colab": {}
      },
      "source": [
        ""
      ],
      "execution_count": 0,
      "outputs": []
    },
    {
      "cell_type": "markdown",
      "metadata": {
        "id": "cGMvft-rGIeK",
        "colab_type": "text"
      },
      "source": [
        "![alt text](https://nixojp.com/meetup/img/git1.jpg)"
      ]
    },
    {
      "cell_type": "markdown",
      "metadata": {
        "id": "e0o87QcZ2Xzw",
        "colab_type": "text"
      },
      "source": [
        "# Section 3\n",
        "\n",
        "# Arguments\n",
        "\n",
        "\n",
        "```\n",
        "def my_function(my_argument):\n",
        "    print(my_argument)\n",
        "    \n",
        "my_function('My argument!')\n",
        "```\n",
        "\n"
      ]
    },
    {
      "cell_type": "code",
      "metadata": {
        "id": "UxQP6LPu3dWv",
        "colab_type": "code",
        "colab": {}
      },
      "source": [
        ""
      ],
      "execution_count": 0,
      "outputs": []
    },
    {
      "cell_type": "markdown",
      "metadata": {
        "id": "tHt-JoDa7gwA",
        "colab_type": "text"
      },
      "source": [
        "## Exercise 3-1\n",
        "\n",
        "```\n",
        "def say_name(name):\n",
        "    print(name)\n",
        "    \n",
        "say_name('Alice')\n",
        "```\n",
        "\n"
      ]
    },
    {
      "cell_type": "code",
      "metadata": {
        "id": "Gm6Xsktu8uNL",
        "colab_type": "code",
        "colab": {}
      },
      "source": [
        ""
      ],
      "execution_count": 0,
      "outputs": []
    },
    {
      "cell_type": "markdown",
      "metadata": {
        "id": "J8a8PYI09o90",
        "colab_type": "text"
      },
      "source": [
        "## Exercise 3-2\n",
        "\n",
        "\n",
        "```\n",
        "def say_many_names(name1, name2, name3):\n",
        "    print(name1, name2, name3)\n",
        "    \n",
        "say_man_names('Alice', 'Bob', 'Eve')\n",
        "```\n",
        "\n"
      ]
    },
    {
      "cell_type": "code",
      "metadata": {
        "id": "5XVDnEXfIdqi",
        "colab_type": "code",
        "colab": {}
      },
      "source": [
        ""
      ],
      "execution_count": 0,
      "outputs": []
    },
    {
      "cell_type": "markdown",
      "metadata": {
        "id": "8Tg6EEX9IePd",
        "colab_type": "text"
      },
      "source": [
        "## Exercise 3-3\n",
        "\n",
        "### FizzBuzz algorithm\n",
        "### Try to explain what the algorithm below is supposed to do!\n",
        "\n",
        "### Review: The '%' (percent) sign is the ['modulo' operator](https://docs.python.org/3.7/reference/expressions.html?highlight=modulo#binary-arithmetic-operations) and gives the remainder of a division operation.\n",
        "\n",
        "```\n",
        "def fizzBuzz(num):\n",
        "  for i in range(1, num + 1):\n",
        "    if i % 15 == 0:\n",
        "        print('FizzBuzz')\n",
        "    elif i % 3 == 0:\n",
        "        print('Fizz')\n",
        "    elif i % 5 == 0:\n",
        "        print('Buzz')\n",
        "    else:\n",
        "        print(i)\n",
        "\n",
        "fizzBuzz(50)\n",
        "```\n",
        "\n"
      ]
    },
    {
      "cell_type": "code",
      "metadata": {
        "id": "kawD-IHoIngj",
        "colab_type": "code",
        "colab": {}
      },
      "source": [
        ""
      ],
      "execution_count": 0,
      "outputs": []
    },
    {
      "cell_type": "markdown",
      "metadata": {
        "id": "QbfscCBMLSjD",
        "colab_type": "text"
      },
      "source": [
        "![alt text](https://nixojp.com/meetup/img/library2.jpg)"
      ]
    },
    {
      "cell_type": "markdown",
      "metadata": {
        "id": "fswt9-g19Gl4",
        "colab_type": "text"
      },
      "source": [
        "# Section 4\n",
        "## Return values"
      ]
    },
    {
      "cell_type": "markdown",
      "metadata": {
        "id": "v4M6_zS06AKN",
        "colab_type": "text"
      },
      "source": [
        "## Exercise 4-1\n",
        "\n",
        "```\n",
        "def hoge1(x, y=5):\n",
        "    # Return a value to the caller\n",
        "    return x + y\n",
        "    \n",
        "print(hoge1(20))\n",
        "```\n",
        "\n"
      ]
    },
    {
      "cell_type": "code",
      "metadata": {
        "id": "Rs1RbMlX6Tuk",
        "colab_type": "code",
        "colab": {}
      },
      "source": [
        ""
      ],
      "execution_count": 0,
      "outputs": []
    },
    {
      "cell_type": "markdown",
      "metadata": {
        "id": "p91qK-F_61py",
        "colab_type": "text"
      },
      "source": [
        "## Exercise 4-2\n",
        "\n",
        "```\n",
        "def foo1(x, y=[]):\n",
        "    y.append(x)\n",
        "    \n",
        "    return y\n",
        "    \n",
        "print(foo1(0))\n",
        "print(foo1(0))\n",
        "print(foo1(0))\n",
        "print(foo1(0, [2,3]))\n",
        "```\n",
        "\n"
      ]
    },
    {
      "cell_type": "code",
      "metadata": {
        "id": "ljehvZvL7Y8V",
        "colab_type": "code",
        "colab": {}
      },
      "source": [
        ""
      ],
      "execution_count": 0,
      "outputs": []
    },
    {
      "cell_type": "markdown",
      "metadata": {
        "id": "Z419i985AiEw",
        "colab_type": "text"
      },
      "source": [
        "## Exercise 4-3\n",
        "\n",
        "```\n",
        "def add(value1, value2):\n",
        "    return value1 + value2\n",
        "\n",
        "result = add(10, 15)\n",
        "print(result)\n",
        "```"
      ]
    },
    {
      "cell_type": "code",
      "metadata": {
        "id": "dH92dV-kBD96",
        "colab_type": "code",
        "colab": {}
      },
      "source": [
        ""
      ],
      "execution_count": 0,
      "outputs": []
    },
    {
      "cell_type": "markdown",
      "metadata": {
        "id": "WwXKRosJJIoS",
        "colab_type": "text"
      },
      "source": [
        "\n",
        "\n",
        "---\n",
        "\n"
      ]
    },
    {
      "cell_type": "markdown",
      "metadata": {
        "id": "MWNoYLWjI_sB",
        "colab_type": "text"
      },
      "source": [
        "# Nice work! You've reached the end of this notebook!"
      ]
    }
  ]
}