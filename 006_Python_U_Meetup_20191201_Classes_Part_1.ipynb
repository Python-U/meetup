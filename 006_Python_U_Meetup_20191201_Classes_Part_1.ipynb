{
  "nbformat": 4,
  "nbformat_minor": 0,
  "metadata": {
    "colab": {
      "name": "006 Python U Meetup 20191201 - Classes Part 1.ipynb",
      "provenance": [],
      "collapsed_sections": [],
      "include_colab_link": true
    },
    "kernelspec": {
      "name": "python3",
      "display_name": "Python 3"
    }
  },
  "cells": [
    {
      "cell_type": "markdown",
      "metadata": {
        "id": "view-in-github",
        "colab_type": "text"
      },
      "source": [
        "<a href=\"https://colab.research.google.com/github/Python-U/meetup/blob/master/006_Python_U_Meetup_20191201_Classes_Part_1.ipynb\" target=\"_parent\"><img src=\"https://colab.research.google.com/assets/colab-badge.svg\" alt=\"Open In Colab\"/></a>"
      ]
    },
    {
      "cell_type": "markdown",
      "metadata": {
        "id": "kWBcQum7TeBA",
        "colab_type": "text"
      },
      "source": [
        "![alt text](https://nixojp.com/meetup/img/pythonu-logo-small.jpeg)\n",
        "\n"
      ]
    },
    {
      "cell_type": "markdown",
      "metadata": {
        "id": "beHj44WTTzg3",
        "colab_type": "text"
      },
      "source": [
        "# Welcome to Python U Meetup #006\n"
      ]
    },
    {
      "cell_type": "markdown",
      "metadata": {
        "id": "rM9M8CFWUQKS",
        "colab_type": "text"
      },
      "source": [
        "### Quick tutorial\n",
        "- This Google Colab Python 3 notebook contains two types of cells, \"**code**\" cells and \"**text**\" cells.\n",
        "- To run the Python code in each code cell or display the formatted text in a text cell, just select the cell and press **Shift + Enter** on your keyboard.\n",
        "- You can also click on the Play button ▶️ on the far left of the cell to run the code. Text cells do not have a play button.\n",
        "- Double-click inside a cell to edit the contents.\n",
        "- To add a cell, you can click on \"**+CODE**\" or \"**+TEXT**\" on the toolbar above or hover  your mouse between two cells and click on \"**+CODE**\" or \"**+TEXT**\" from the pop-up."
      ]
    },
    {
      "cell_type": "markdown",
      "metadata": {
        "id": "ZFSpSjgAUbTn",
        "colab_type": "text"
      },
      "source": [
        "## Code Review 1 ([Functions](https://docs.python.org/3/tutorial/controlflow.html#defining-functions))\n",
        "### What does the code below do?\n",
        "\n",
        "\n",
        "```\n",
        "def my_func(a):\n",
        "    return a + 1\n",
        "    \n",
        "b = my_func\n",
        "\n",
        "print(b(5) + my_func(7))\n",
        "```"
      ]
    },
    {
      "cell_type": "code",
      "metadata": {
        "id": "hDoaTdpuRBoS",
        "colab_type": "code",
        "colab": {}
      },
      "source": [
        ""
      ],
      "execution_count": 0,
      "outputs": []
    },
    {
      "cell_type": "markdown",
      "metadata": {
        "id": "G0xm_YUwUfFI",
        "colab_type": "text"
      },
      "source": [
        "## Code Review 2 ([For Loops](https://docs.python.org/3.8/tutorial/controlflow.html#for-statements))\n",
        "### What does the code below do?\n",
        "\n",
        "```\n",
        "def fizzBuzz(num):\n",
        "  for i in range(1, num + 1):\n",
        "    if i % 15 == 0:\n",
        "        print('FizzBuzz')\n",
        "    elif i % 3 == 0:\n",
        "        print('Fizz')\n",
        "    elif i % 5 == 0:\n",
        "        print('Buzz')\n",
        "    else:\n",
        "        print(i)\n",
        "\n",
        "fizzBuzz(30)\n",
        "```"
      ]
    },
    {
      "cell_type": "code",
      "metadata": {
        "id": "WJs_vAe_UfuB",
        "colab_type": "code",
        "colab": {}
      },
      "source": [
        ""
      ],
      "execution_count": 0,
      "outputs": []
    },
    {
      "cell_type": "markdown",
      "metadata": {
        "id": "bZc1LyERUgey",
        "colab_type": "text"
      },
      "source": [
        "## Code Review 3 ([Docs](https://docs.python.org/3.8/index.html))\n",
        "\n",
        "### What does the code below do?\n",
        "\n",
        "```\n",
        "# Comment\n",
        "def ping(i):\n",
        "    if i > 0:\n",
        "        print(i)\n",
        "        return pong(i - 1)\n",
        "    return \"0\"\n",
        "    \n",
        "def pong(i):\n",
        "    if i > 0:\n",
        "        print(i)\n",
        "        return ping(i - 1)\n",
        "    return \"1\"\n",
        "    \n",
        "print(ping(30))\n",
        "```"
      ]
    },
    {
      "cell_type": "code",
      "metadata": {
        "id": "q4u59edvUjiZ",
        "colab_type": "code",
        "colab": {}
      },
      "source": [
        ""
      ],
      "execution_count": 0,
      "outputs": []
    },
    {
      "cell_type": "markdown",
      "metadata": {
        "id": "Yk7TBcF5ENGR",
        "colab_type": "text"
      },
      "source": [
        "![INSERT IMAGE](https://nixojp.com/meetup/img/191101.jpg)"
      ]
    },
    {
      "cell_type": "markdown",
      "metadata": {
        "id": "U8FrzhHXeAA1",
        "colab_type": "text"
      },
      "source": [
        "# Section 1\n",
        "# [Classes & Object Oriented Programming](https://docs.python.org/3.8/tutorial/classes.html)\n",
        "### ([日本語](https://docs.python.org/ja/3.8/tutorial/classes.html))\n",
        "\n",
        "\n",
        "\n",
        "> Classes provide a way to bundle data and functionality together. Creating a new class creates a new type of **object**, allowing new **instances** of that type to be made. Each class instance can have **attributes** attached to it for maintaining its state. Class instances can also have **methods** (defined by its class) for modifying its state.\n",
        "\n"
      ]
    },
    {
      "cell_type": "markdown",
      "metadata": {
        "id": "3tpdCoVTieoZ",
        "colab_type": "text"
      },
      "source": [
        "## Exercise 1-1\n",
        "### How to create a simple class\n",
        "\n",
        "```\n",
        "# Class names usually start with upper case letters\n",
        "# Basic class definitions look like the following:\n",
        "\n",
        "class NewClass:\n",
        "    <statement-1>\n",
        "    .\n",
        "    .\n",
        "    .\n",
        "    <statement-N>\n",
        "```\n",
        "\n",
        "### Write the following class definition\n",
        "\n",
        "```\n",
        "# Let's write a classic Person class\n",
        "class Person:\n",
        "    pass\n",
        "    \n",
        "# Make an instance\n",
        "person1 = Person()\n",
        "```\n",
        "\n",
        "\n",
        "\n"
      ]
    },
    {
      "cell_type": "code",
      "metadata": {
        "id": "NQ6XdM9sIcQX",
        "colab_type": "code",
        "colab": {}
      },
      "source": [
        ""
      ],
      "execution_count": 0,
      "outputs": []
    },
    {
      "cell_type": "markdown",
      "metadata": {
        "id": "WLc59tJU94y9",
        "colab_type": "text"
      },
      "source": [
        "## Exercise 1-2\n",
        "### Constructor Method\n",
        "```\n",
        "# Comment\n",
        "class Person:\n",
        "    def __init__(self, name, age):\n",
        "        pass\n",
        "        \n",
        "alice = Person('Alice', 25)\n",
        "```\n",
        "\n"
      ]
    },
    {
      "cell_type": "code",
      "metadata": {
        "id": "_3PqCIlkGJXR",
        "colab_type": "code",
        "colab": {}
      },
      "source": [
        ""
      ],
      "execution_count": 0,
      "outputs": []
    },
    {
      "cell_type": "markdown",
      "metadata": {
        "id": "tIG9alOk-F6f",
        "colab_type": "text"
      },
      "source": [
        "## Exercise 1-3\n",
        "### Subtopic\n",
        "\n",
        "```\n",
        "# Comment\n",
        "class Person:\n",
        "    def __init__(self, name, age):\n",
        "        self.name = name\n",
        "        self.age = age\n",
        "        \n",
        "bob = Person('Bob', 30)\n",
        "\n",
        "print(bob.name, bob.age)\n",
        "```\n",
        "\n"
      ]
    },
    {
      "cell_type": "code",
      "metadata": {
        "id": "d620PW06-LEn",
        "colab_type": "code",
        "colab": {}
      },
      "source": [
        "    "
      ],
      "execution_count": 0,
      "outputs": []
    },
    {
      "cell_type": "markdown",
      "metadata": {
        "id": "zEnm1N4siltA",
        "colab_type": "text"
      },
      "source": [
        "![alt text](https://nixojp.com/meetup/img/191102.jpg)"
      ]
    },
    {
      "cell_type": "markdown",
      "metadata": {
        "id": "Nq7_Cl3hUsyp",
        "colab_type": "text"
      },
      "source": [
        "# Section 2\n"
      ]
    },
    {
      "cell_type": "markdown",
      "metadata": {
        "id": "ROd1UeIG0BrE",
        "colab_type": "text"
      },
      "source": [
        "### Let's continue writing our Person class!\n",
        "\n",
        "```\n",
        "# Comment\n",
        "class Person:\n",
        "    def __init__(self, name, age):\n",
        "        self.name = name\n",
        "        self.age = age\n",
        "        \n",
        "    def say_hi(self):\n",
        "        print('Hi!')\n",
        "        \n",
        "mallory = Person('Mallory', 30)\n",
        "\n",
        "print(mallory.name, mallory.age)\n",
        "```\n",
        "\n"
      ]
    },
    {
      "cell_type": "markdown",
      "metadata": {
        "id": "3RwpwDcS0gB1",
        "colab_type": "text"
      },
      "source": [
        "## Exercise 2-1\n",
        "### Subtopic\n",
        "```\n",
        "# Comment\n",
        "class Person:\n",
        "    def __init__(self, name, age):\n",
        "        self.name = name\n",
        "        self.age = age\n",
        "        \n",
        "    def say_hi(self):\n",
        "        print(self.name, self.age)\n",
        "        \n",
        "mallory = Person('Mallory', 30)\n",
        "\n",
        "print(mallory.name, mallory.age)\n",
        "```\n",
        "\n"
      ]
    },
    {
      "cell_type": "code",
      "metadata": {
        "id": "eFxPaKcvUvyZ",
        "colab_type": "code",
        "colab": {}
      },
      "source": [
        ""
      ],
      "execution_count": 0,
      "outputs": []
    },
    {
      "cell_type": "markdown",
      "metadata": {
        "id": "0tCOQpG30x3Y",
        "colab_type": "text"
      },
      "source": [
        "## Exercise 2-2\n",
        "\n",
        "### Subtopic\n",
        "```\n",
        "# Comment\n",
        "class Person:\n",
        "    def __init__(self, name, age):\n",
        "        self.name = name\n",
        "        self.age = age\n",
        "        self.say_hi()\n",
        "        \n",
        "    def say_hi(self):\n",
        "        print(self.name, self.age)\n",
        "        \n",
        "chuck = Person('Chuck', 40)\n",
        "\n",
        "print(chuck.name, chuck.age)\n",
        "```\n",
        "\n"
      ]
    },
    {
      "cell_type": "code",
      "metadata": {
        "id": "QWPqBLvp1J1C",
        "colab_type": "code",
        "colab": {}
      },
      "source": [
        ""
      ],
      "execution_count": 0,
      "outputs": []
    },
    {
      "cell_type": "markdown",
      "metadata": {
        "id": "8JLdTQXZ1m0f",
        "colab_type": "text"
      },
      "source": [
        "## Exercise 2-3\n",
        "\n",
        "### Subtopic\n",
        "\n",
        "\n",
        "```\n",
        "# Comment\n",
        "class Person:\n",
        "    def __init__(self, name, age):\n",
        "        self.name = name\n",
        "        self.age = age\n",
        "        self.say_hi()\n",
        "        \n",
        "    def say_hi(self):\n",
        "        print(self.name, self.age)\n",
        "        \n",
        "chuck = Person('Chuck', 40)\n",
        "chuck.age = 21\n",
        "\n",
        "chuck.say_hi()\n",
        "```\n",
        "\n"
      ]
    },
    {
      "cell_type": "code",
      "metadata": {
        "id": "MnuUliEW1wM3",
        "colab_type": "code",
        "colab": {}
      },
      "source": [
        ""
      ],
      "execution_count": 0,
      "outputs": []
    },
    {
      "cell_type": "markdown",
      "metadata": {
        "id": "cGMvft-rGIeK",
        "colab_type": "text"
      },
      "source": [
        "![alt text](https://nixojp.com/meetup/img/191103.jpg)"
      ]
    },
    {
      "cell_type": "markdown",
      "metadata": {
        "id": "e0o87QcZ2Xzw",
        "colab_type": "text"
      },
      "source": [
        "# Section 3\n",
        "\n",
        "#### Try to create your own class!\n",
        "\n",
        "```\n",
        "# Comment\n",
        "class MyClass:\n",
        "    def __init__(self, property1):\n",
        "        self.property1 = propertty1\n",
        "        \n",
        "    def method1(self, argument1):\n",
        "        pass\n",
        "            \n",
        "            \n",
        "instance1 = MyClass(property1)\n",
        "\n",
        "instance1.method1(arugument1)\n",
        "```\n",
        "\n"
      ]
    },
    {
      "cell_type": "code",
      "metadata": {
        "id": "UxQP6LPu3dWv",
        "colab_type": "code",
        "colab": {}
      },
      "source": [
        ""
      ],
      "execution_count": 0,
      "outputs": []
    },
    {
      "cell_type": "markdown",
      "metadata": {
        "id": "tHt-JoDa7gwA",
        "colab_type": "text"
      },
      "source": [
        "## Exercise 3-1\n",
        "### Add a method!\n",
        "```\n",
        "# Comment\n",
        "# Comment\n",
        "class MyClass:\n",
        "    def __init__(self, property1):\n",
        "        self.property1 = propertty1\n",
        "        \n",
        "    def method1(self, argument1):\n",
        "        pass\n",
        "            \n",
        "instance1 = MyClass(property1)\n",
        "\n",
        "instance1.method1(arugument1)\n",
        "```\n",
        "\n"
      ]
    },
    {
      "cell_type": "code",
      "metadata": {
        "id": "Gm6Xsktu8uNL",
        "colab_type": "code",
        "colab": {}
      },
      "source": [
        ""
      ],
      "execution_count": 0,
      "outputs": []
    },
    {
      "cell_type": "markdown",
      "metadata": {
        "id": "J8a8PYI09o90",
        "colab_type": "text"
      },
      "source": [
        "## Exercise 3-2\n",
        "### Create multiple instances!\n",
        "```\n",
        "# Comment\n",
        "class MyClass:\n",
        "    def __init__(self, property1):\n",
        "        self.property1 = propertty1\n",
        "        \n",
        "    def method1(self, argument1):\n",
        "        pass\n",
        "            \n",
        "            \n",
        "instance1 = MyClass(property1)\n",
        "instance2 = MyClass(property1)\n",
        "\n",
        "instance1.method1(argument1)\n",
        "instance2.method1(argument1)\n",
        "```\n",
        "\n"
      ]
    },
    {
      "cell_type": "code",
      "metadata": {
        "id": "5XVDnEXfIdqi",
        "colab_type": "code",
        "colab": {}
      },
      "source": [
        ""
      ],
      "execution_count": 0,
      "outputs": []
    },
    {
      "cell_type": "markdown",
      "metadata": {
        "id": "8Tg6EEX9IePd",
        "colab_type": "text"
      },
      "source": [
        "## Exercise 3-3\n",
        "### Add some more properties and methods to your original class or make a new class!\n",
        "```\n",
        "# Start from scratch!\n",
        "```\n",
        "\n"
      ]
    },
    {
      "cell_type": "code",
      "metadata": {
        "id": "kawD-IHoIngj",
        "colab_type": "code",
        "colab": {}
      },
      "source": [
        ""
      ],
      "execution_count": 0,
      "outputs": []
    },
    {
      "cell_type": "markdown",
      "metadata": {
        "id": "MWNoYLWjI_sB",
        "colab_type": "text"
      },
      "source": [
        "# Great work! You've reached the end of this notebook!"
      ]
    }
  ]
}