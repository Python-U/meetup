{
  "nbformat": 4,
  "nbformat_minor": 0,
  "metadata": {
    "colab": {
      "name": "003 Python U Meetup 201907xx.ipynb",
      "version": "0.3.2",
      "provenance": [],
      "collapsed_sections": [],
      "include_colab_link": true
    },
    "kernelspec": {
      "name": "python3",
      "display_name": "Python 3"
    }
  },
  "cells": [
    {
      "cell_type": "markdown",
      "metadata": {
        "id": "view-in-github",
        "colab_type": "text"
      },
      "source": [
        "<a href=\"https://colab.research.google.com/github/Python-U/meetup/blob/master/003_Python_U_Meetup_201907xx.ipynb\" target=\"_parent\"><img src=\"https://colab.research.google.com/assets/colab-badge.svg\" alt=\"Open In Colab\"/></a>"
      ]
    },
    {
      "cell_type": "markdown",
      "metadata": {
        "id": "lKPNO2uDGhU5",
        "colab_type": "text"
      },
      "source": [
        "![alt text](https://nixojp.com/meetup/img/pythonu-logo-small.jpeg) "
      ]
    },
    {
      "cell_type": "markdown",
      "metadata": {
        "id": "CHCBsJ1Ou8a7",
        "colab_type": "text"
      },
      "source": [
        "# Welcome to Python U Meetup #3"
      ]
    },
    {
      "cell_type": "markdown",
      "metadata": {
        "id": "wXYGIxPOvNfS",
        "colab_type": "text"
      },
      "source": [
        "### Quick tutorial\n",
        "- This Google Colab Python 3 notebook contains two types of cells, \"*code*\" cells and \"*text*\" cells.\n",
        "- To run the Python code in each code cell or display the formatted text in a text cell, just selct the cell and press **Shift + Enter ** on your keyboard.\n",
        "- You can also click on the Play button ▶️ on the far left of the cell to run the code. Text cells do not have a play button.\n",
        "- Double-click inside a cell to edit the contents.\n",
        "- To add a cell, you can click on \"**+CODE**\" or \"**+TEXT**\" on the toolbar above or hover  your mouse between two cells and click on \"**+CODE**\" or \"**+TEXT**\" from the pop-up.\n",
        "- To delete a cell, click on the three dots ⠸ on the far right of the cell and select \"Delete cell.\""
      ]
    },
    {
      "cell_type": "markdown",
      "metadata": {
        "id": "RYL4G5iXTfjz",
        "colab_type": "text"
      },
      "source": [
        "## Review Quiz\n",
        "\n",
        "\n",
        "\n",
        "\n",
        "1.   What is the difference between a 'float' and an 'integer?'\n",
        "2.   What is a 'boolean?'\n",
        "3.   How do you check the 'type' of a variable?\n",
        "4.   How do you check how many items are in a list variable?\n",
        "5.   Describe the order of arithmetic operators in Python.\n",
        "\n",
        "\n",
        "\n"
      ]
    },
    {
      "cell_type": "markdown",
      "metadata": {
        "id": "po5X1Go7L1Pq",
        "colab_type": "text"
      },
      "source": [
        "## Code Review 1\n",
        "\n",
        "\n",
        "\n",
        "```\n",
        "# Print out the string \"Hello World!\" using the 'f-string' print function.\n",
        "```\n",
        "\n"
      ]
    },
    {
      "cell_type": "code",
      "metadata": {
        "id": "-csMbkzUL8uJ",
        "colab_type": "code",
        "colab": {}
      },
      "source": [
        ""
      ],
      "execution_count": 0,
      "outputs": []
    },
    {
      "cell_type": "markdown",
      "metadata": {
        "id": "oRM8lhc2L9K9",
        "colab_type": "text"
      },
      "source": [
        "## Code Review 2\n",
        "\n",
        "```\n",
        "# Create two new variables of any name and assign them the values of two different numbers.\n",
        "# Print out the mathematical product (multiply) of the two variables.\n",
        "```\n",
        "\n"
      ]
    },
    {
      "cell_type": "code",
      "metadata": {
        "id": "QWTjKrH1MiXn",
        "colab_type": "code",
        "colab": {}
      },
      "source": [
        ""
      ],
      "execution_count": 0,
      "outputs": []
    },
    {
      "cell_type": "markdown",
      "metadata": {
        "id": "avPLpkwtMm-P",
        "colab_type": "text"
      },
      "source": [
        "## Code Review 3\n",
        "\n",
        "\n",
        "\n",
        "```\n",
        "# Create a variable of a list of 5 squared numbers and print out the list.\n",
        "```\n",
        "\n"
      ]
    },
    {
      "cell_type": "code",
      "metadata": {
        "id": "Ag5OudPBV-l0",
        "colab_type": "code",
        "colab": {}
      },
      "source": [
        ""
      ],
      "execution_count": 0,
      "outputs": []
    },
    {
      "cell_type": "markdown",
      "metadata": {
        "id": "_GL5l4QnWBha",
        "colab_type": "text"
      },
      "source": [
        "\n",
        "\n",
        "---\n",
        "\n"
      ]
    },
    {
      "cell_type": "markdown",
      "metadata": {
        "id": "K6rh1cEe5X6l",
        "colab_type": "text"
      },
      "source": [
        "# Section 1\n",
        "# *for*  Statement"
      ]
    },
    {
      "cell_type": "markdown",
      "metadata": {
        "id": "ZfKr2ahP48Qc",
        "colab_type": "text"
      },
      "source": [
        "### 1-1\n",
        "\n",
        "**for** *VARIABLE* **in** *ITERATOR* **:**\n",
        "> *STATEMENT1*\n",
        "\n",
        "> *STATEMENT2*\n",
        "\n",
        "> ...\n",
        "\n",
        "\n",
        "\n",
        "\n",
        "\n",
        "```\n",
        "# Example\n",
        "# Measure some strings:\n",
        "words = ['dog', 'house', 'disestablishmentarianism']\n",
        "for w in words:\n",
        "    print(w, len(w))\n",
        "```\n",
        "\n"
      ]
    },
    {
      "cell_type": "code",
      "metadata": {
        "id": "MOwWJuEs5P-k",
        "colab_type": "code",
        "colab": {}
      },
      "source": [
        ""
      ],
      "execution_count": 0,
      "outputs": []
    },
    {
      "cell_type": "markdown",
      "metadata": {
        "id": "9EQbfq4K8byy",
        "colab_type": "text"
      },
      "source": [
        "\n",
        "\n",
        "```\n",
        "numbers1 = [1, 2, 3, 4, 5]\n",
        "\n",
        "for num in numbers1:\n",
        "    print(num ** 2)\n",
        "```\n",
        "\n"
      ]
    },
    {
      "cell_type": "code",
      "metadata": {
        "id": "IrwFe7278uDe",
        "colab_type": "code",
        "colab": {}
      },
      "source": [
        ""
      ],
      "execution_count": 0,
      "outputs": []
    },
    {
      "cell_type": "markdown",
      "metadata": {
        "id": "3wS41enA8uhz",
        "colab_type": "text"
      },
      "source": [
        "\n",
        "\n",
        "\n",
        "\n",
        "```\n",
        "score1 = {'math': 100, 'science': 90}\n",
        "\n",
        "for value in score1.values():\n",
        "    print(value)\n",
        "```\n",
        "\n"
      ]
    },
    {
      "cell_type": "code",
      "metadata": {
        "id": "P3EnAR7j9HGj",
        "colab_type": "code",
        "colab": {}
      },
      "source": [
        ""
      ],
      "execution_count": 0,
      "outputs": []
    },
    {
      "cell_type": "markdown",
      "metadata": {
        "id": "JyPFje7h9HlU",
        "colab_type": "text"
      },
      "source": [
        "\n",
        "\n",
        "```\n",
        "score2 = {'math': 100, 'science': 90}\n",
        "\n",
        "for key, value in score.items():\n",
        "    print(key, value)\n",
        "```\n",
        "\n"
      ]
    },
    {
      "cell_type": "code",
      "metadata": {
        "id": "NH8cFbYb-Lpa",
        "colab_type": "code",
        "colab": {}
      },
      "source": [
        ""
      ],
      "execution_count": 0,
      "outputs": []
    },
    {
      "cell_type": "markdown",
      "metadata": {
        "id": "dGve1Fo59u6t",
        "colab_type": "text"
      },
      "source": [
        "\n",
        "\n",
        "```\n",
        "profiles = [\n",
        "    ('sato', 170, 74),\n",
        "    ('tanaka', 180, 70),\n",
        "    ('yoshida', 160, 50)\n",
        "]\n",
        "\n",
        "for name, height, weight in profiles:\n",
        "    print(name, height, weight)\n",
        "```\n",
        "\n"
      ]
    },
    {
      "cell_type": "code",
      "metadata": {
        "id": "xDsZKSsb-QjC",
        "colab_type": "code",
        "colab": {}
      },
      "source": [
        ""
      ],
      "execution_count": 0,
      "outputs": []
    },
    {
      "cell_type": "markdown",
      "metadata": {
        "id": "MTdvo0wm-s1n",
        "colab_type": "text"
      },
      "source": [
        "\n",
        "\n",
        "```\n",
        "numbers2 = [4, 1, 5, 7, 11, 3, 4, 5]\n",
        "\n",
        "found = False\n",
        "\n",
        "for num in numbers2:\n",
        "    if num >= 10:\n",
        "        found = True\n",
        "        \n",
        "if found:\n",
        "    print('There are numbers greater than or equal to 10')\n",
        "else:\n",
        "    print('No numbers greater than or equal to 10')\n",
        "```\n",
        "\n"
      ]
    },
    {
      "cell_type": "code",
      "metadata": {
        "id": "XcymvIhY_PHk",
        "colab_type": "code",
        "colab": {}
      },
      "source": [
        ""
      ],
      "execution_count": 0,
      "outputs": []
    },
    {
      "cell_type": "markdown",
      "metadata": {
        "id": "eAIResml_fSj",
        "colab_type": "text"
      },
      "source": [
        "\n",
        "\n",
        "```\n",
        "numbers3 = [4, 1, 5, 7, 11, 3, 4, 5]\n",
        "\n",
        "found = False\n",
        "\n",
        "for num in numbers3:\n",
        "    if num >= 10:\n",
        "        found = True\n",
        "        break  # This is the new line\n",
        "        \n",
        "if found:\n",
        "    print('There are numbers greater than or equal to 10')\n",
        "else:\n",
        "    print('No numbers greater than or equal to 10')\n",
        "```\n",
        "\n"
      ]
    },
    {
      "cell_type": "code",
      "metadata": {
        "id": "RSuW4ywNAF9m",
        "colab_type": "code",
        "colab": {}
      },
      "source": [
        ""
      ],
      "execution_count": 0,
      "outputs": []
    },
    {
      "cell_type": "markdown",
      "metadata": {
        "id": "GcuObDNoBC8B",
        "colab_type": "text"
      },
      "source": [
        "\n",
        "\n",
        "```\n",
        "numbers4 = [4, 1, 5, 7, 11, 3, 4, 5]\n",
        "\n",
        "for num in numbers4:\n",
        "    if num >= 10:\n",
        "        print('There are numbers greater than or equal to 10')\n",
        "        break\n",
        "        \n",
        "    else:\n",
        "        print('No numbers greater than or equal to 10')\n",
        "```\n",
        "\n"
      ]
    },
    {
      "cell_type": "code",
      "metadata": {
        "id": "Dgu5FXbGBrkj",
        "colab_type": "code",
        "colab": {}
      },
      "source": [
        ""
      ],
      "execution_count": 0,
      "outputs": []
    },
    {
      "cell_type": "markdown",
      "metadata": {
        "id": "mUYOrJEgF0dU",
        "colab_type": "text"
      },
      "source": [
        "\n",
        "\n",
        "```\n",
        "for i in range(10):\n",
        "    print(i, end=' ') # Use space between items, not new line\n",
        "    \n",
        "for i in range(10):\n",
        "    print(i)\n",
        "```\n",
        "\n"
      ]
    },
    {
      "cell_type": "code",
      "metadata": {
        "id": "bsLzLViwF-dK",
        "colab_type": "code",
        "colab": {}
      },
      "source": [
        ""
      ],
      "execution_count": 0,
      "outputs": []
    },
    {
      "cell_type": "markdown",
      "metadata": {
        "id": "BWZgtOsvHXk3",
        "colab_type": "text"
      },
      "source": [
        "\n",
        "\n",
        "```\n",
        "for i in range(1, 11):\n",
        "    print(i, end=' ')\n",
        "```\n",
        "\n"
      ]
    },
    {
      "cell_type": "code",
      "metadata": {
        "id": "BRLSxXGdHgAq",
        "colab_type": "code",
        "colab": {}
      },
      "source": [
        ""
      ],
      "execution_count": 0,
      "outputs": []
    },
    {
      "cell_type": "markdown",
      "metadata": {
        "id": "AxrmA2JSHhoj",
        "colab_type": "text"
      },
      "source": [
        "\n",
        "\n",
        "```\n",
        "for i in range(1, 11, 2):\n",
        "    print(i, end=' ')\n",
        "```\n",
        "\n"
      ]
    },
    {
      "cell_type": "code",
      "metadata": {
        "id": "eX_U0z5aHqhN",
        "colab_type": "code",
        "colab": {}
      },
      "source": [
        ""
      ],
      "execution_count": 0,
      "outputs": []
    },
    {
      "cell_type": "markdown",
      "metadata": {
        "id": "jThfMynST_Al",
        "colab_type": "text"
      },
      "source": [
        "\n",
        "\n",
        "```\n",
        "numbers5 = range(10)\n",
        "\n",
        "print(numbers5)\n",
        "\n",
        "print(type(numbers5))\n",
        "```\n",
        "\n"
      ]
    },
    {
      "cell_type": "code",
      "metadata": {
        "id": "-oPoQgvlURTL",
        "colab_type": "code",
        "colab": {}
      },
      "source": [
        ""
      ],
      "execution_count": 0,
      "outputs": []
    },
    {
      "cell_type": "markdown",
      "metadata": {
        "id": "cdktJQudUj7c",
        "colab_type": "text"
      },
      "source": [
        "\n",
        "\n",
        "```\n",
        "numbers6 = list(range(10))\n",
        "\n",
        "print(numbers6)\n",
        "\n",
        "print(type(numbers6))\n",
        "```\n",
        "\n"
      ]
    },
    {
      "cell_type": "code",
      "metadata": {
        "id": "wlOn6ti3UuJj",
        "colab_type": "code",
        "colab": {}
      },
      "source": [
        ""
      ],
      "execution_count": 0,
      "outputs": []
    },
    {
      "cell_type": "markdown",
      "metadata": {
        "id": "P0W0Z-O6LlIX",
        "colab_type": "text"
      },
      "source": [
        "# Section 2\n",
        "# *while*  Loop\n",
        "\n",
        "\n",
        "\n"
      ]
    },
    {
      "cell_type": "markdown",
      "metadata": {
        "id": "tLMTr3y7xYu8",
        "colab_type": "text"
      },
      "source": [
        "### 2-1\n",
        "\n",
        "\n",
        "```\n",
        "# Fibonacci series:\n",
        "# the sum of two elements defines the next\n",
        "a, b = 0, 1\n",
        "while a < 10:\n",
        "    print(a)\n",
        "    a, b = b, a+b\n",
        "```"
      ]
    },
    {
      "cell_type": "code",
      "metadata": {
        "id": "5vacpg8iGk0O",
        "colab_type": "code",
        "colab": {}
      },
      "source": [
        ""
      ],
      "execution_count": 0,
      "outputs": []
    },
    {
      "cell_type": "markdown",
      "metadata": {
        "id": "CuizCF172hLW",
        "colab_type": "text"
      },
      "source": [
        "\n",
        "\n",
        "---\n",
        "\n"
      ]
    }
  ]
}